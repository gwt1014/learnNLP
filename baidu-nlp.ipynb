{
 "cells": [
  {
   "cell_type": "code",
   "execution_count": 1,
   "metadata": {},
   "outputs": [
    {
     "name": "stdout",
     "output_type": "stream",
     "text": [
      "smart_open library not found; falling back to local-filesystem-only\n",
      "smart_open library not found; falling back to local-filesystem-only\n"
     ]
    },
    {
     "name": "stderr",
     "output_type": "stream",
     "text": [
      "Building prefix dict from C:\\ProgramData\\Anaconda3\\lib\\site-packages\\synonyms\\data\\vocab.txt ...\n",
      "WARNING: Logging before flag parsing goes to stderr.\n",
      "I0816 11:39:42.923965  6176 __init__.py:111] Building prefix dict from C:\\ProgramData\\Anaconda3\\lib\\site-packages\\synonyms\\data\\vocab.txt ...\n",
      "Loading model from cache C:\\Users\\GWT\\AppData\\Local\\Temp\\jieba.ua5170a0f831c846f08094f57e4bca895.cache\n",
      "I0816 11:39:42.926968  6176 __init__.py:131] Loading model from cache C:\\Users\\GWT\\AppData\\Local\\Temp\\jieba.ua5170a0f831c846f08094f57e4bca895.cache\n"
     ]
    },
    {
     "name": "stdout",
     "output_type": "stream",
     "text": [
      ">> Synonyms load wordseg dict [C:\\ProgramData\\Anaconda3\\lib\\site-packages\\synonyms\\data\\vocab.txt] ... \n"
     ]
    },
    {
     "name": "stderr",
     "output_type": "stream",
     "text": [
      "Loading model cost 1.617 seconds.\n",
      "I0816 11:39:44.542110  6176 __init__.py:163] Loading model cost 1.617 seconds.\n",
      "Prefix dict has been built succesfully.\n",
      "I0816 11:39:44.543112  6176 __init__.py:164] Prefix dict has been built succesfully.\n"
     ]
    },
    {
     "name": "stdout",
     "output_type": "stream",
     "text": [
      ">> Synonyms on loading stopwords [C:\\ProgramData\\Anaconda3\\lib\\site-packages\\synonyms\\data\\stopwords.txt] ...\n",
      ">> Synonyms on loading vectors [C:\\ProgramData\\Anaconda3\\lib\\site-packages\\synonyms\\data\\words.vector] ...\n"
     ]
    }
   ],
   "source": [
    "from aip import AipNlp\n",
    "import pandas as pd\n",
    "import time\n",
    "import synonyms"
   ]
  },
  {
   "cell_type": "code",
   "execution_count": 2,
   "metadata": {},
   "outputs": [],
   "source": [
    "\"\"\" 你的 APPID AK SK \"\"\"\n",
    "APP_ID = '11653919'\n",
    "API_KEY = 'UvzTwOdwV2viviQ71VoEOigz'\n",
    "SECRET_KEY = 'RbdwB9RvAAmv3jc4qRyPizeQGY7gWgSt '\n",
    "client = AipNlp(APP_ID, API_KEY, SECRET_KEY)"
   ]
  },
  {
   "cell_type": "code",
   "execution_count": 3,
   "metadata": {},
   "outputs": [],
   "source": [
    "options = {}\n",
    "options[\"type\"] = 12"
   ]
  },
  {
   "cell_type": "code",
   "execution_count": 4,
   "metadata": {},
   "outputs": [
    {
     "ename": "FileNotFoundError",
     "evalue": "[Errno 2] No such file or directory: 'jd行车记录仪评论2018-08-09.csv'",
     "output_type": "error",
     "traceback": [
      "\u001b[1;31m---------------------------------------------------------------------------\u001b[0m",
      "\u001b[1;31mFileNotFoundError\u001b[0m                         Traceback (most recent call last)",
      "\u001b[1;32m<ipython-input-4-720476cebbc2>\u001b[0m in \u001b[0;36m<module>\u001b[1;34m()\u001b[0m\n\u001b[1;32m----> 1\u001b[1;33m \u001b[0mf\u001b[0m \u001b[1;33m=\u001b[0m \u001b[0mopen\u001b[0m\u001b[1;33m(\u001b[0m\u001b[1;34m'jd行车记录仪评论2018-08-09.csv'\u001b[0m\u001b[1;33m)\u001b[0m\u001b[1;33m\u001b[0m\u001b[0m\n\u001b[0m\u001b[0;32m      2\u001b[0m \u001b[0mdf\u001b[0m \u001b[1;33m=\u001b[0m \u001b[0mpd\u001b[0m\u001b[1;33m.\u001b[0m\u001b[0mread_csv\u001b[0m\u001b[1;33m(\u001b[0m\u001b[0mf\u001b[0m\u001b[1;33m)\u001b[0m\u001b[1;33m\u001b[0m\u001b[0m\n",
      "\u001b[1;31mFileNotFoundError\u001b[0m: [Errno 2] No such file or directory: 'jd行车记录仪评论2018-08-09.csv'"
     ]
    }
   ],
   "source": [
    "f = open('jd行车记录仪评论2018-08-09.csv')\n",
    "df = pd.read_csv(f)"
   ]
  },
  {
   "cell_type": "code",
   "execution_count": null,
   "metadata": {},
   "outputs": [],
   "source": [
    "content = df['content']"
   ]
  },
  {
   "cell_type": "code",
   "execution_count": 12,
   "metadata": {},
   "outputs": [],
   "source": [
    "def geteachtextResult(commentList,errorlen = 0):\n",
    "    banlist = []\n",
    "    errorlist = []\n",
    "    result = []\n",
    "    print('共有%d条评论'%len(commentList))\n",
    "    for text in commentList:\n",
    "        nlp = client.commentTag(text,options)\n",
    "        print('#',end='')\n",
    "        if 'error_msg' in nlp:\n",
    "            if nlp['error_code'] == 282130:\n",
    "#                 print('不认识')\n",
    "                errorlist.append(text)\n",
    "            elif nlp['error_code'] == 18:\n",
    "#                 print('ban')\n",
    "                banlist.append(text)\n",
    "            else:\n",
    "                 print('未知错误')\n",
    "                 print(nlp)\n",
    "        elif 'items' in nlp:\n",
    "            result.extend(nlp['items'])\n",
    "        else:\n",
    "            print('没报错但是也没结果')\n",
    "            print(nlp)\n",
    "    if len(banlist)!= 0:\n",
    "#         a = copy.deepcopy(result)\n",
    "        result.extend(geteachtextResult(banlist,errorlen+len(errorlist)))\n",
    "        return result\n",
    "#         return result.extend(geteachtextResult(banlist,errorlen+len(errorlist),result))\n",
    "    else:\n",
    "        print(\"\\n分析完成！%d条没有结果\"%(errorlen))\n",
    "#         a = copy.deepcopy(result)\n",
    "        return result"
   ]
  },
  {
   "cell_type": "code",
   "execution_count": 21,
   "metadata": {
    "scrolled": true
   },
   "outputs": [
    {
     "name": "stdout",
     "output_type": "stream",
     "text": [
      "共有30条评论\n",
      "##############################共有14条评论\n",
      "##############共有8条评论\n",
      "########共有5条评论\n",
      "#####共有4条评论\n",
      "####\n",
      "分析完成！10条没有结果\n",
      "5.373857259750366\n"
     ]
    }
   ],
   "source": [
    "testComment = content[50:80]\n",
    "time1 = time.time()\n",
    "com = geteachtextResult(testComment)\n",
    "time2 = time.time()\n",
    "print(str(time2-time1))"
   ]
  },
  {
   "cell_type": "code",
   "execution_count": 23,
   "metadata": {},
   "outputs": [],
   "source": [
    "result = pd.DataFrame(com)"
   ]
  },
  {
   "cell_type": "code",
   "execution_count": 24,
   "metadata": {},
   "outputs": [
    {
     "data": {
      "text/plain": [
       "感觉      8\n",
       "商品      2\n",
       "手机      2\n",
       "功能      2\n",
       "确实      2\n",
       "外观      2\n",
       "做工      1\n",
       "超市      1\n",
       "效果不错    1\n",
       "物流速度    1\n",
       "速度快     1\n",
       "效果      1\n",
       "物流      1\n",
       "东西      1\n",
       "总体      1\n",
       "质量      1\n",
       "屏幕      1\n",
       "种类      1\n",
       "东西质量    1\n",
       "速度      1\n",
       "品牌不错    1\n",
       "Name: prop, dtype: int64"
      ]
     },
     "execution_count": 24,
     "metadata": {},
     "output_type": "execute_result"
    }
   ],
   "source": [
    "count = result['prop'].value_counts()\n",
    "count"
   ]
  },
  {
   "cell_type": "code",
   "execution_count": null,
   "metadata": {},
   "outputs": [],
   "source": []
  },
  {
   "cell_type": "code",
   "execution_count": 25,
   "metadata": {},
   "outputs": [],
   "source": [
    "#同义词\n",
    "array=list(count.index)\n",
    "synos=['0']"
   ]
  },
  {
   "cell_type": "code",
   "execution_count": 26,
   "metadata": {},
   "outputs": [
    {
     "name": "stderr",
     "output_type": "stream",
     "text": [
      "C:\\ProgramData\\Anaconda3\\lib\\site-packages\\synonyms\\utils.py:246: RuntimeWarning: invalid value encountered in true_divide\n",
      "  cosine = lambda a, b: dot(a, b)/(norm(a)*norm(b))\n"
     ]
    }
   ],
   "source": [
    "for i in range(len(array)):\n",
    "    for j in range(len(synos)):\n",
    "        if synonyms.compare(array[i], synos[j], seg=True)>0.8:\n",
    "            break\n",
    "        else:\n",
    "            if j == (len(synos)-1):\n",
    "                synos.append(array[i])\n",
    "synos.remove('0')"
   ]
  },
  {
   "cell_type": "code",
   "execution_count": 27,
   "metadata": {},
   "outputs": [],
   "source": [
    "#好中坏\n",
    "count=pd.DataFrame(count)\n",
    "\n",
    "sy_count = pd.DataFrame()\n",
    "sy_count['prop']=list(count.index)\n",
    "sy_count['sum']=list(count['prop'])\n",
    "sy_count['good']=0\n",
    "sy_count['normal']=0\n",
    "sy_count['bad']=0"
   ]
  },
  {
   "cell_type": "code",
   "execution_count": 28,
   "metadata": {},
   "outputs": [
    {
     "name": "stderr",
     "output_type": "stream",
     "text": [
      "C:\\ProgramData\\Anaconda3\\lib\\site-packages\\ipykernel_launcher.py:5: SettingWithCopyWarning: \n",
      "A value is trying to be set on a copy of a slice from a DataFrame\n",
      "\n",
      "See the caveats in the documentation: http://pandas.pydata.org/pandas-docs/stable/indexing.html#indexing-view-versus-copy\n",
      "  \"\"\"\n",
      "C:\\ProgramData\\Anaconda3\\lib\\site-packages\\ipykernel_launcher.py:9: SettingWithCopyWarning: \n",
      "A value is trying to be set on a copy of a slice from a DataFrame\n",
      "\n",
      "See the caveats in the documentation: http://pandas.pydata.org/pandas-docs/stable/indexing.html#indexing-view-versus-copy\n",
      "  if __name__ == '__main__':\n"
     ]
    }
   ],
   "source": [
    "for i in range(len(result)):\n",
    "    for j in range(len(count)):\n",
    "        if result['prop'][i]==sy_count['prop'][j]:\n",
    "            if result['sentiment'][i]==2:\n",
    "                sy_count['good'][j]=sy_count['good'][j]+1\n",
    "            if result['sentiment'][i]==1:\n",
    "                sy_count['normal'][j]=sy_count['normal'][j]+1\n",
    "            if result['sentiment'][i]==0:\n",
    "                sy_count['bad'][j]=sy_count['bad'][j]+1\n",
    "            break"
   ]
  },
  {
   "cell_type": "code",
   "execution_count": 29,
   "metadata": {},
   "outputs": [
    {
     "name": "stderr",
     "output_type": "stream",
     "text": [
      "C:\\ProgramData\\Anaconda3\\lib\\site-packages\\ipykernel_launcher.py:5: SettingWithCopyWarning: \n",
      "A value is trying to be set on a copy of a slice from a DataFrame\n",
      "\n",
      "See the caveats in the documentation: http://pandas.pydata.org/pandas-docs/stable/indexing.html#indexing-view-versus-copy\n",
      "  \"\"\"\n"
     ]
    }
   ],
   "source": [
    "#同义词替代\n",
    "for i in range(len(sy_count)):\n",
    "    for k in range(len(synos)):\n",
    "        if synonyms.compare(sy_count['prop'][i], synos[k], seg=True)>0.8:\n",
    "            sy_count['prop'][i]=synos[k]\n",
    "            break"
   ]
  },
  {
   "cell_type": "code",
   "execution_count": 30,
   "metadata": {},
   "outputs": [],
   "source": [
    "#去重 排序\n",
    "sy_count=sy_count.groupby('prop').sum()\n",
    "sy_count=sy_count.sort_values(by=\"sum\" , ascending=False)"
   ]
  },
  {
   "cell_type": "code",
   "execution_count": 32,
   "metadata": {},
   "outputs": [
    {
     "data": {
      "text/html": [
       "<div>\n",
       "<style scoped>\n",
       "    .dataframe tbody tr th:only-of-type {\n",
       "        vertical-align: middle;\n",
       "    }\n",
       "\n",
       "    .dataframe tbody tr th {\n",
       "        vertical-align: top;\n",
       "    }\n",
       "\n",
       "    .dataframe thead th {\n",
       "        text-align: right;\n",
       "    }\n",
       "</style>\n",
       "<table border=\"1\" class=\"dataframe\">\n",
       "  <thead>\n",
       "    <tr style=\"text-align: right;\">\n",
       "      <th></th>\n",
       "      <th>sum</th>\n",
       "      <th>good</th>\n",
       "      <th>normal</th>\n",
       "      <th>bad</th>\n",
       "    </tr>\n",
       "    <tr>\n",
       "      <th>prop</th>\n",
       "      <th></th>\n",
       "      <th></th>\n",
       "      <th></th>\n",
       "      <th></th>\n",
       "    </tr>\n",
       "  </thead>\n",
       "  <tbody>\n",
       "    <tr>\n",
       "      <th>感觉</th>\n",
       "      <td>8</td>\n",
       "      <td>8</td>\n",
       "      <td>0</td>\n",
       "      <td>0</td>\n",
       "    </tr>\n",
       "    <tr>\n",
       "      <th>外观</th>\n",
       "      <td>3</td>\n",
       "      <td>3</td>\n",
       "      <td>0</td>\n",
       "      <td>0</td>\n",
       "    </tr>\n",
       "    <tr>\n",
       "      <th>手机</th>\n",
       "      <td>3</td>\n",
       "      <td>3</td>\n",
       "      <td>0</td>\n",
       "      <td>0</td>\n",
       "    </tr>\n",
       "    <tr>\n",
       "      <th>速度快</th>\n",
       "      <td>2</td>\n",
       "      <td>2</td>\n",
       "      <td>0</td>\n",
       "      <td>0</td>\n",
       "    </tr>\n",
       "    <tr>\n",
       "      <th>商品</th>\n",
       "      <td>2</td>\n",
       "      <td>2</td>\n",
       "      <td>0</td>\n",
       "      <td>0</td>\n",
       "    </tr>\n",
       "    <tr>\n",
       "      <th>功能</th>\n",
       "      <td>2</td>\n",
       "      <td>2</td>\n",
       "      <td>0</td>\n",
       "      <td>0</td>\n",
       "    </tr>\n",
       "    <tr>\n",
       "      <th>确实</th>\n",
       "      <td>2</td>\n",
       "      <td>2</td>\n",
       "      <td>0</td>\n",
       "      <td>0</td>\n",
       "    </tr>\n",
       "    <tr>\n",
       "      <th>物流速度</th>\n",
       "      <td>1</td>\n",
       "      <td>1</td>\n",
       "      <td>0</td>\n",
       "      <td>0</td>\n",
       "    </tr>\n",
       "    <tr>\n",
       "      <th>超市</th>\n",
       "      <td>1</td>\n",
       "      <td>1</td>\n",
       "      <td>0</td>\n",
       "      <td>0</td>\n",
       "    </tr>\n",
       "    <tr>\n",
       "      <th>质量</th>\n",
       "      <td>1</td>\n",
       "      <td>1</td>\n",
       "      <td>0</td>\n",
       "      <td>0</td>\n",
       "    </tr>\n",
       "    <tr>\n",
       "      <th>种类</th>\n",
       "      <td>1</td>\n",
       "      <td>0</td>\n",
       "      <td>0</td>\n",
       "      <td>1</td>\n",
       "    </tr>\n",
       "    <tr>\n",
       "      <th>东西质量</th>\n",
       "      <td>1</td>\n",
       "      <td>1</td>\n",
       "      <td>0</td>\n",
       "      <td>0</td>\n",
       "    </tr>\n",
       "    <tr>\n",
       "      <th>物流</th>\n",
       "      <td>1</td>\n",
       "      <td>1</td>\n",
       "      <td>0</td>\n",
       "      <td>0</td>\n",
       "    </tr>\n",
       "    <tr>\n",
       "      <th>效果不错</th>\n",
       "      <td>1</td>\n",
       "      <td>1</td>\n",
       "      <td>0</td>\n",
       "      <td>0</td>\n",
       "    </tr>\n",
       "    <tr>\n",
       "      <th>总体</th>\n",
       "      <td>1</td>\n",
       "      <td>1</td>\n",
       "      <td>0</td>\n",
       "      <td>0</td>\n",
       "    </tr>\n",
       "    <tr>\n",
       "      <th>屏幕</th>\n",
       "      <td>1</td>\n",
       "      <td>1</td>\n",
       "      <td>0</td>\n",
       "      <td>0</td>\n",
       "    </tr>\n",
       "    <tr>\n",
       "      <th>品牌不错</th>\n",
       "      <td>1</td>\n",
       "      <td>1</td>\n",
       "      <td>0</td>\n",
       "      <td>0</td>\n",
       "    </tr>\n",
       "    <tr>\n",
       "      <th>效果</th>\n",
       "      <td>1</td>\n",
       "      <td>1</td>\n",
       "      <td>0</td>\n",
       "      <td>0</td>\n",
       "    </tr>\n",
       "  </tbody>\n",
       "</table>\n",
       "</div>"
      ],
      "text/plain": [
       "      sum  good  normal  bad\n",
       "prop                        \n",
       "感觉      8     8       0    0\n",
       "外观      3     3       0    0\n",
       "手机      3     3       0    0\n",
       "速度快     2     2       0    0\n",
       "商品      2     2       0    0\n",
       "功能      2     2       0    0\n",
       "确实      2     2       0    0\n",
       "物流速度    1     1       0    0\n",
       "超市      1     1       0    0\n",
       "质量      1     1       0    0\n",
       "种类      1     0       0    1\n",
       "东西质量    1     1       0    0\n",
       "物流      1     1       0    0\n",
       "效果不错    1     1       0    0\n",
       "总体      1     1       0    0\n",
       "屏幕      1     1       0    0\n",
       "品牌不错    1     1       0    0\n",
       "效果      1     1       0    0"
      ]
     },
     "execution_count": 32,
     "metadata": {},
     "output_type": "execute_result"
    }
   ],
   "source": [
    "sy_count"
   ]
  },
  {
   "cell_type": "code",
   "execution_count": null,
   "metadata": {},
   "outputs": [],
   "source": []
  },
  {
   "cell_type": "code",
   "execution_count": null,
   "metadata": {},
   "outputs": [],
   "source": []
  },
  {
   "cell_type": "code",
   "execution_count": null,
   "metadata": {},
   "outputs": [],
   "source": []
  },
  {
   "cell_type": "code",
   "execution_count": null,
   "metadata": {},
   "outputs": [],
   "source": []
  },
  {
   "cell_type": "code",
   "execution_count": null,
   "metadata": {},
   "outputs": [],
   "source": []
  }
 ],
 "metadata": {
  "kernelspec": {
   "display_name": "Python 3",
   "language": "python",
   "name": "python3"
  },
  "language_info": {
   "codemirror_mode": {
    "name": "ipython",
    "version": 3
   },
   "file_extension": ".py",
   "mimetype": "text/x-python",
   "name": "python",
   "nbconvert_exporter": "python",
   "pygments_lexer": "ipython3",
   "version": "3.6.4"
  },
  "toc": {
   "nav_menu": {},
   "number_sections": true,
   "sideBar": true,
   "skip_h1_title": false,
   "toc_cell": false,
   "toc_position": {},
   "toc_section_display": "block",
   "toc_window_display": false
  },
  "varInspector": {
   "cols": {
    "lenName": 16,
    "lenType": 16,
    "lenVar": 40
   },
   "kernels_config": {
    "python": {
     "delete_cmd_postfix": "",
     "delete_cmd_prefix": "del ",
     "library": "var_list.py",
     "varRefreshCmd": "print(var_dic_list())"
    },
    "r": {
     "delete_cmd_postfix": ") ",
     "delete_cmd_prefix": "rm(",
     "library": "var_list.r",
     "varRefreshCmd": "cat(var_dic_list()) "
    }
   },
   "types_to_exclude": [
    "module",
    "function",
    "builtin_function_or_method",
    "instance",
    "_Feature"
   ],
   "window_display": false
  }
 },
 "nbformat": 4,
 "nbformat_minor": 2
}
